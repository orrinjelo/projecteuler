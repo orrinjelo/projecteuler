{
 "cells": [
  {
   "cell_type": "markdown",
   "metadata": {},
   "source": [
    "A Pythagorean triplet is a set of three natural numbers, a < b < c, for which,\n",
    "a<sup>2</sup> + b<sup>2</sup> = c<sup>2</sup>\n",
    "\n",
    "For example, 3<sup>2</sup> + 4<sup>2</sup> = 9 + 16 = 25 = 5<sup>2</sup>.\n",
    "\n",
    "There exists exactly one Pythagorean triplet for which a + b + c = 1000.\n",
    "Find the product abc.\n"
   ]
  },
  {
   "cell_type": "code",
   "execution_count": 1,
   "metadata": {
    "collapsed": true
   },
   "outputs": [],
   "source": [
    "# c = +/- sqrt(a^2 + b^2), or c = 1000 - a - b, so a^2 + b^2 = (1000 - a - b)^2"
   ]
  },
  {
   "cell_type": "code",
   "execution_count": 7,
   "metadata": {},
   "outputs": [
    {
     "name": "stdout",
     "output_type": "stream",
     "text": [
      "a\tb\tc\ta*b*c\n",
      "------------------------------\n",
      "0 \t500 \t500 \t0\n",
      "200 \t375 \t425 \t31875000\n",
      "375 \t200 \t425 \t31875000\n",
      "500 \t0 \t500 \t0\n"
     ]
    }
   ],
   "source": [
    "# Because a, b, c < 1000\n",
    "print 'a\\tb\\tc\\ta*b*c'\n",
    "print '-'*30\n",
    "for a in range(1000):\n",
    "    for b in range(1000):\n",
    "        if a**2 + b**2 == (1000 - a - b)**2:\n",
    "            print a, '\\t', b, '\\t', (1000 - a - b), '\\t', a*b*(1000 - a - b)"
   ]
  },
  {
   "cell_type": "code",
   "execution_count": null,
   "metadata": {
    "collapsed": true
   },
   "outputs": [],
   "source": []
  }
 ],
 "metadata": {
  "kernelspec": {
   "display_name": "Python 2",
   "language": "python",
   "name": "python2"
  },
  "language_info": {
   "codemirror_mode": {
    "name": "ipython",
    "version": 2
   },
   "file_extension": ".py",
   "mimetype": "text/x-python",
   "name": "python",
   "nbconvert_exporter": "python",
   "pygments_lexer": "ipython2",
   "version": "2.7.13"
  }
 },
 "nbformat": 4,
 "nbformat_minor": 2
}
