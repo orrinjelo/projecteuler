{
 "cells": [
  {
   "cell_type": "markdown",
   "metadata": {},
   "source": [
    "2520 is the smallest number that can be divided by each of the numbers from 1 to 10 without any remainder.\n",
    "\n",
    "What is the smallest positive number that is evenly divisible by all of the numbers from 1 to 20?\n"
   ]
  },
  {
   "cell_type": "code",
   "execution_count": 3,
   "metadata": {},
   "outputs": [
    {
     "name": "stdout",
     "output_type": "stream",
     "text": [
      "2520\n"
     ]
    }
   ],
   "source": [
    "# Example\n",
    "x  = 1     # 1\n",
    "x *= 2**3  # 2, 6, 4, 8, 10\n",
    "x *= 3**2  # 3, 6, 9\n",
    "x *= 5     # 5, 10\n",
    "x *= 7     # 7\n",
    "print x"
   ]
  },
  {
   "cell_type": "code",
   "execution_count": 4,
   "metadata": {},
   "outputs": [
    {
     "name": "stdout",
     "output_type": "stream",
     "text": [
      "232792560\n"
     ]
    }
   ],
   "source": [
    "# Pen-paper solution\n",
    "x  = 1     # 1\n",
    "x *= 2**4  # 2, 6, 4, 8, 10, 12, 14, 16, 18, 20\n",
    "x *= 3**2  # 3, 6, 9, 12, 15, 18\n",
    "x *= 5     # 5, 10, 15, 20\n",
    "x *= 7     # 7, 14\n",
    "x *= 11    # 11\n",
    "x *= 13    # 13\n",
    "x *= 17    # 17\n",
    "x *= 19    # 19\n",
    "\n",
    "print x"
   ]
  },
  {
   "cell_type": "code",
   "execution_count": 15,
   "metadata": {},
   "outputs": [
    {
     "name": "stdout",
     "output_type": "stream",
     "text": [
      "232792560\n"
     ]
    }
   ],
   "source": [
    "# Programatically\n",
    "import numpy as np\n",
    "\n",
    "N = 20\n",
    "\n",
    "def isPrime(x):\n",
    "    for y in range(2,int(x**0.5)+1):\n",
    "        if x % y == 0:\n",
    "            return False\n",
    "    return True\n",
    "\n",
    "nums   = np.array(range(2,N+1))\n",
    "primes = nums[np.array(map(isPrime, nums))]\n",
    "\n",
    "x = 1\n",
    "for n in primes:\n",
    "    val = n**( int(np.log(N) // np.log(n) ) )\n",
    "    x *= val\n",
    "    \n",
    "print x"
   ]
  },
  {
   "cell_type": "code",
   "execution_count": null,
   "metadata": {
    "collapsed": true
   },
   "outputs": [],
   "source": []
  }
 ],
 "metadata": {
  "kernelspec": {
   "display_name": "Python 2",
   "language": "python",
   "name": "python2"
  },
  "language_info": {
   "codemirror_mode": {
    "name": "ipython",
    "version": 2
   },
   "file_extension": ".py",
   "mimetype": "text/x-python",
   "name": "python",
   "nbconvert_exporter": "python",
   "pygments_lexer": "ipython2",
   "version": "2.7.13"
  }
 },
 "nbformat": 4,
 "nbformat_minor": 2
}
