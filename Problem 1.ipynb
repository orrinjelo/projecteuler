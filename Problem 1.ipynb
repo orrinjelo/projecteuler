{
 "cells": [
  {
   "cell_type": "markdown",
   "metadata": {},
   "source": [
    "If we list all the natural numbers below 10 that are multiples of 3 or 5, we get 3, 5, 6 and 9. The sum of these multiples is 23.\n",
    "\n",
    "Find the sum of all the multiples of 3 or 5 below 1000."
   ]
  },
  {
   "cell_type": "code",
   "execution_count": 1,
   "metadata": {},
   "outputs": [
    {
     "name": "stdout",
     "output_type": "stream",
     "text": [
      "233168\n",
      "233168\n",
      "233168\n"
     ]
    }
   ],
   "source": [
    "# Brute force method\n",
    "numSum = 0\n",
    "for n in range(1,1000):\n",
    "    if n % 3 == 0 or n % 5 == 0:\n",
    "        numSum += n\n",
    "\n",
    "print numSum\n",
    "\n",
    "# Clever mathematician method\n",
    "print 3 * (999//3 * (999//3 + 1)) // 2 + 5 * (999//5 * (999//5 + 1)) // 2 - 15 * (999//15 * (999//15 + 1)) // 2\n",
    "\n",
    "# The \"let's make the mathy way clear\" method\n",
    "def sumOfAllMultiplesBelow(multiple, belowNumber):\n",
    "    return multiple * ((belowNumber-1)//multiple * ((belowNumber-1)//multiple + 1)) // 2\n",
    "\n",
    "# We count the ones for 3 and 5, but some get counted twice, (those that are multiple of 15), so we subtract that off\n",
    "print sumOfAllMultiplesBelow(3,1000) + sumOfAllMultiplesBelow(5,1000) - sumOfAllMultiplesBelow(15,1000)"
   ]
  },
  {
   "cell_type": "code",
   "execution_count": null,
   "metadata": {
    "collapsed": true
   },
   "outputs": [],
   "source": []
  }
 ],
 "metadata": {
  "kernelspec": {
   "display_name": "Python 2",
   "language": "python",
   "name": "python2"
  },
  "language_info": {
   "codemirror_mode": {
    "name": "ipython",
    "version": 2
   },
   "file_extension": ".py",
   "mimetype": "text/x-python",
   "name": "python",
   "nbconvert_exporter": "python",
   "pygments_lexer": "ipython2",
   "version": "2.7.13"
  }
 },
 "nbformat": 4,
 "nbformat_minor": 2
}
